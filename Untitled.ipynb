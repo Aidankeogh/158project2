{
 "cells": [
  {
   "cell_type": "code",
   "execution_count": 13,
   "metadata": {},
   "outputs": [],
   "source": [
    "import json\n",
    "readfile = open(\"data/fakenews.json\",\"r\")\n",
    "\n",
    "fakenews = []\n",
    "for line in readfile:\n",
    "    fakenews.append(json.loads(line))\n"
   ]
  },
  {
   "cell_type": "code",
   "execution_count": 14,
   "metadata": {},
   "outputs": [
    {
     "name": "stdout",
     "output_type": "stream",
     "text": [
      "thefreethoughtproject.com\n",
      "Home Be The Change Antiwar Leaked Secret Cable Confirms Israel Conspiring with Saudi Arabia to Provoke War Leaked Secret Cable Confirms Israel Conspiring with Saudi Arabia to Provoke War Israeli News Channel 10 published a leaked diplomatic cable Tuesday, confirming a long-running 'conspiracy theory' of Israeli-Saudi coordination to provoke war. By tweet \n",
      "In what can be referred to as a smoking gun, on Tuesday, Israeli News Channel 10 published a leaked diplomatic cable confirming a long-running ‘conspiracy theory’ of Israeli-Saudi coordination to provoke war. \n",
      "As ZH reports, the cable was sent to all Israeli ambassadors throughout the world concerning the chaotic events that unfolded over the weekend in Lebanon and Saudi Arabia, which began with Lebanese Prime Minister Saad Hariri’s unexpected resignation after he was summoned to Riyadh by his Saudi-backers, and led to the Saudis announcing that Lebanon had “declared war” against the kingdom. \n",
      "The classified embassy cable, written in Hebrew, constitutes the first formal evidence proving that the Saudis and Israelis are deliberately coordinating to escalate the situation in the Middle East. \n",
      "As ZH notes, the explosive classified Israeli cable reveals the following: Advertisment On Sunday, just after Lebanese PM Hariri’s shocking resignation, Israel sent a cable to all of its embassies with the request that its diplomats do everything possible to ramp up diplomatic pressure against Hezbollah and Iran. The cable urged support for Saudi Arabia’s war against Iran-backed Houthis in Yemen. The cable stressed that Iran was engaged in “regional subversion”. Israeli diplomats were urged to appeal to the “highest officials” within their host countries to attempt to expel Hezbollah from Lebanese government and politics. This is a EXPLOSIVE thread that proves how Saudi and Israel are deliberately coordinating to escalate the situation in the MidEast. https://t.co/dMe4PnkwTf \n",
      "— Trita Parsi (@tparsi) November 6, 2017 \n",
      "The Israeli reporter who obtained the document is Barak Ravid, senior diplomatic correspondent for Channel 10 News . Ravid announced the following through Twitter yesterday : I published on channel 10 a cable sent to Israeli diplomats asking to lobby for Saudis/Harir and against Hezbollah. The cable sent from the MFA in Jerusalem [Israeli Ministry of Foreign Affairs] to all Israeli embassies toes the Saudi line regarding the Hariri resignation. The Israeli diplomats were instructed to demarch their host governments over the domestic political situation in Lebanon – a very rare move. The cable said: “You need to stress that the Hariri resignation shows how dangerous Iran and Hezbollah are for Lebanon’s security.” “Hariri’s resignation proves wrong the argument that Hezbollah participation in the government stabilizes Lebanon,” the cable added. The cable instructed Israeli diplomats to support Saudi Arabia over its war with the Houthis in Yemen. The cable also stressed: “The missile launch by the Houthis towards Riyadh calls for applying more pressure on Iran & Hezbollah.” 1 I published on channel 10 a cable sent to Israeli diplomats asking to lobby for SaudisHariri &against Hezbollah https://t.co/AbeLPC35GP \n",
      "— Barak Ravid (@BarakRavid) November 6, 2017 \n",
      "Channel 10 News released a rough English translation of the of the secret Israeli embassy cable. That translation is below. \n",
      "“To the Director-General: you are requested to urgently contact the Foreign Ministry and other relevant government officials [of your host country] and emphasize that the resignation of Al-Hariri and his comments on the reasons that led him to resign illustrate once again the destructive nature of Iran and Hezbollah and their danger to the stability of Lebanon and the countries of the region. \n",
      "\n",
      "Al-Hariri’s resignation proves that the international argument that Hezbollah’s inclusion in the government is a recipe for stability is basically wrong. This artificial unity creates paralysis and the inability of local sovereign powers to make decisions that serve their national interest. It effectively turns them into hostages under physical threat and are forced to promote the interests of a foreign power – Iran – even if this may endanger the security of their country. \n",
      "\n",
      "The events in Lebanon and the launching of a ballistic missile by the signatories to the Riyadh agreement require increased pressure on Iran and Hezbollah on a range of issues from the production of ballistic missiles to regional subversion.” \n",
      "As has been well-documented, Saudi Arabia and Israel share a common enemy that is Iranian influence. Although the IDF has “warned” of some “potential” direct action against the most notorious terrorist groups in the world which seem to be comfortably ensconced within eyesight of Israeli border posts, it has never taken significant direct action against terrorist groups like ISIS and al-Qaeda and, instead, routinely target the Syrian army, Iranian-linked militias, and Hezbollah with airstrikes. This is a general reflection of the Israeli strategy of regime change in Syria, which has resulted in a well-documented history of assistance to al-Qaeda affiliated rebel groups. READ MORE: Never Forget: Terrorist Group Who Just Claimed Responsibility for #Manchester is Funded by US \n",
      "This strategy is shared by Saudi Arabia, who, in September, made a “secret” visit to Israel, despite the regime not even recognizing the existence of the Jewish state. \n",
      "Israel’s state-funded Kol Yisrael radio service documented this visit, noting that “An emir of the Saudi royal court visited the country secretly in recent days and discussed with senior Israeli officials the idea of advancing regional peace,” the station reported. \n",
      "As ZH reports: \n",
      "Thus, as things increasingly heat up in the Middle East, it appears the anti-Iran and anti-Shia alliance of convenience between the Saudis and Israelis appears to have placed Lebanon in the cross hairs of yet another looming Israeli-Hezbollah war. And the war in Yemen will also continue to escalate – perhaps now with increasingly overt Israeli political support. According to Channel 10’s commentary (translation), “In the cable, Israeli ambassadors were also asked to convey an unusual message of support for Saudi Arabia in light of the war in which it is involved in Yemen against the Iranian-backed rebels.” \n",
      "All of this this comes, perhaps not coincidentally , at the very moment ISIS is on the verge of complete annihilation (partly at the hands of Hezbollah), and as both Israel and Saudi Arabia have of late increasingly declared “red lines” concerning perceived Iranian influence across the region as well as broad Hezbollah acceptance and popularity within Lebanon. \n",
      "What has both Israel and the Saudis worried is the fact that the Syrian war has strengthened Hezbollah, not weakened it. And now we have smoking gun internal evidence that Israel is quietly formalizing its unusual alliance with Saudi Arabia and its power-hungry and hawkish crown prince Mohammed bin Salman. SHARE Matt Agorist Matt Agorist is an honorably discharged veteran of the USMC and former intelligence operator directly tasked by the NSA. This prior experience gives him unique insight into the world of government corruption and the American police state. Agorist has been an independent journalist for over a decade and has been featured on mainstream networks around the world. Agorist is also the Editor at Large at the Free Thought Project. Follow @MattAgorist on Twitter , Steemit , and now on Facebook. Recent Posts\n"
     ]
    }
   ],
   "source": [
    "\n",
    "print fakenews[29][\"info\"][\"site\"]\n",
    "print fakenews[29][\"text\"]"
   ]
  },
  {
   "cell_type": "code",
   "execution_count": 15,
   "metadata": {},
   "outputs": [
    {
     "name": "stdout",
     "output_type": "stream",
     "text": [
      "4300\n"
     ]
    }
   ],
   "source": [
    "print len(fakenews)"
   ]
  },
  {
   "cell_type": "code",
   "execution_count": null,
   "metadata": {
    "collapsed": true
   },
   "outputs": [],
   "source": []
  }
 ],
 "metadata": {
  "kernelspec": {
   "display_name": "Python 2",
   "language": "python",
   "name": "python2"
  },
  "language_info": {
   "codemirror_mode": {
    "name": "ipython",
    "version": 2
   },
   "file_extension": ".py",
   "mimetype": "text/x-python",
   "name": "python",
   "nbconvert_exporter": "python",
   "pygments_lexer": "ipython2",
   "version": "2.7.13"
  }
 },
 "nbformat": 4,
 "nbformat_minor": 2
}
