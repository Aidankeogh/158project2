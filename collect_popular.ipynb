{
 "cells": [
  {
   "cell_type": "code",
   "execution_count": 7,
   "metadata": {
    "collapsed": true
   },
   "outputs": [],
   "source": [
    "import json\n",
    "import webhoseio\n",
    "from collections import Counter\n",
    "sources = json.load(open(\"popularSources.json\",\"r\"))\n",
    "fakestring = \"site:\" + sources[0]\n",
    "i = 0\n",
    "for source in sources[1:]:\n",
    "    i = i + 1\n",
    "    if i % 3 == 2:\n",
    "        fakestring += \" OR site:\" + source"
   ]
  },
  {
   "cell_type": "code",
   "execution_count": 16,
   "metadata": {},
   "outputs": [
    {
     "data": {
      "text/plain": [
       "u'in5d.com'"
      ]
     },
     "execution_count": 16,
     "metadata": {},
     "output_type": "execute_result"
    }
   ],
   "source": [
    "sources[3]"
   ]
  },
  {
   "cell_type": "code",
   "execution_count": 13,
   "metadata": {},
   "outputs": [
    {
     "data": {
      "text/plain": [
       "u'site:thefederalistpapers.org OR site:thefreethoughtproject.com OR site:sputniknews.com OR site:whowhatwhy.org OR site:greanvillepost.com OR site:galacticconnection.com OR site:fellowshipoftheminds.com OR site:yournewswire.com OR site:fromthetrenchesworldreport.com OR site:frontpagemag.com OR site:dcclothesline.com OR site:truthbroadcastnetwork.com OR site:activistpost.com OR site:corbettreport.com OR site:humansarefree.com OR site:empireherald.com OR site:nowtheendbegins.com OR site:truthandaction.org OR site:returnofkings.com OR site:familysecuritymatters.org OR site:thelibertybeacon.com OR site:ancient-code.com OR site:socialeverythings.com OR site:naturalblaze.com OR site:thepoliticalinsider.com OR site:thephaser.com OR site:awdnews.com OR site:healthimpactnews.com OR site:responsibletechnology.org OR site:newstarget.com OR site:conservativefighters.com'"
      ]
     },
     "execution_count": 13,
     "metadata": {},
     "output_type": "execute_result"
    }
   ],
   "source": [
    "fakestring"
   ]
  },
  {
   "cell_type": "code",
   "execution_count": 18,
   "metadata": {},
   "outputs": [
    {
     "name": "stdout",
     "output_type": "stream",
     "text": [
      "868\n"
     ]
    }
   ],
   "source": [
    "print len(fakestring)"
   ]
  },
  {
   "cell_type": "code",
   "execution_count": 8,
   "metadata": {},
   "outputs": [],
   "source": [
    "sites = []\n",
    "webhoseio.config(token=\"27dfe87c-b2b4-4c6c-8385-6dd03f9716cd\")\n",
    "query_params = {\n",
    "\"q\": \"language:english is_first:true ( \" + fakestring + \" )\",\n",
    "\"ts\": \"1509257254791\",\n",
    "\"sort\": \"performance_score\"\n",
    "}\n",
    "output = webhoseio.query(\"filterWebContent\", query_params)\n"
   ]
  },
  {
   "cell_type": "code",
   "execution_count": 9,
   "metadata": {},
   "outputs": [
    {
     "name": "stdout",
     "output_type": "stream",
     "text": [
      "0.0\n",
      "0.0116279069767\n",
      "0.0232558139535\n",
      "0.0348837209302\n",
      "0.046511627907\n",
      "0.0581395348837\n",
      "0.0697674418605\n",
      "0.0813953488372\n",
      "0.093023255814\n",
      "0.104651162791\n",
      "0.116279069767\n",
      "0.127906976744\n",
      "0.139534883721\n",
      "0.151162790698\n",
      "0.162790697674\n",
      "0.174418604651\n",
      "0.186046511628\n",
      "0.197674418605\n",
      "0.209302325581\n",
      "0.220930232558\n",
      "0.232558139535\n",
      "0.244186046512\n",
      "0.255813953488\n",
      "0.267441860465\n",
      "0.279069767442\n",
      "0.290697674419\n",
      "0.302325581395\n",
      "0.313953488372\n",
      "0.325581395349\n",
      "0.337209302326\n",
      "0.348837209302\n",
      "0.360465116279\n",
      "0.372093023256\n",
      "0.383720930233\n",
      "0.395348837209\n",
      "0.406976744186\n",
      "0.418604651163\n",
      "0.43023255814\n",
      "0.441860465116\n",
      "0.453488372093\n",
      "0.46511627907\n",
      "0.476744186047\n",
      "0.488372093023\n",
      "0.5\n",
      "0.511627906977\n",
      "0.523255813953\n",
      "0.53488372093\n",
      "0.546511627907\n",
      "0.558139534884\n",
      "0.56976744186\n",
      "0.581395348837\n",
      "0.593023255814\n",
      "0.604651162791\n",
      "0.616279069767\n",
      "0.627906976744\n",
      "0.639534883721\n",
      "0.651162790698\n",
      "0.662790697674\n",
      "0.674418604651\n",
      "0.686046511628\n",
      "0.697674418605\n",
      "0.709302325581\n",
      "0.720930232558\n",
      "0.732558139535\n",
      "0.744186046512\n",
      "0.755813953488\n",
      "0.767441860465\n",
      "0.779069767442\n",
      "0.790697674419\n",
      "0.802325581395\n",
      "0.813953488372\n",
      "0.825581395349\n",
      "0.837209302326\n",
      "0.848837209302\n",
      "0.860465116279\n",
      "0.872093023256\n",
      "0.883720930233\n",
      "0.895348837209\n",
      "0.906976744186\n",
      "0.918604651163\n",
      "0.93023255814\n",
      "0.941860465116\n",
      "0.953488372093\n",
      "0.96511627907\n",
      "0.976744186047\n",
      "0.988372093023\n"
     ]
    }
   ],
   "source": [
    "tot = output[\"totalResults\"] / 100\n",
    "for i in range(tot):\n",
    "    print i * 1.0/tot\n",
    "    for post in output['posts']:\n",
    "        d = {   \"info\": post[\"thread\"],\n",
    "                \"text\": post[\"text\"],\n",
    "                \"id\"  : post[\"uuid\"]\n",
    "            }\n",
    "        json.dump(d,open(\"data/fakenews.json\",\"a\"))\n",
    "        open(\"data/fakenews.json\",\"a\").write('\\n')\n",
    "    output = webhoseio.get_next()"
   ]
  },
  {
   "cell_type": "code",
   "execution_count": null,
   "metadata": {
    "collapsed": true
   },
   "outputs": [],
   "source": []
  },
  {
   "cell_type": "code",
   "execution_count": 10,
   "metadata": {},
   "outputs": [
    {
     "name": "stdout",
     "output_type": "stream",
     "text": [
      "{\n",
      "    \"entities\": {\n",
      "        \"persons\": [\n",
      "            {\n",
      "                \"name\": \"heather callaghan\", \n",
      "                \"sentiment\": \"none\"\n",
      "            }\n",
      "        ], \n",
      "        \"locations\": [], \n",
      "        \"organizations\": []\n",
      "    }, \n",
      "    \"rating\": null, \n",
      "    \"uuid\": \"4820da7e0bc8ae70d24a99c5e5d3e95d322cfd59\", \n",
      "    \"thread\": {\n",
      "        \"social\": {\n",
      "            \"gplus\": {\n",
      "                \"shares\": 0\n",
      "            }, \n",
      "            \"pinterest\": {\n",
      "                \"shares\": 0\n",
      "            }, \n",
      "            \"vk\": {\n",
      "                \"shares\": 0\n",
      "            }, \n",
      "            \"linkedin\": {\n",
      "                \"shares\": 0\n",
      "            }, \n",
      "            \"facebook\": {\n",
      "                \"likes\": 0, \n",
      "                \"comments\": 0, \n",
      "                \"shares\": 0\n",
      "            }, \n",
      "            \"stumbledupon\": {\n",
      "                \"shares\": 0\n",
      "            }\n",
      "        }, \n",
      "        \"site_full\": \"www.naturalblaze.com\", \n",
      "        \"main_image\": null, \n",
      "        \"site_section\": \"https://www.naturalblaze.com\", \n",
      "        \"section_title\": \"Natural Blaze\", \n",
      "        \"url\": \"http://omgili.com/ri/.wHSUbtEfZQK_U1UVUtLZdpU6BCOdfX.SvAZGdxHYlce.kI4k0Cv_udUYBNcAiTwXP9VpktZ169a2sxB7zZ_NctCdcgu9Zi5MFCqFugh4cDoPT51wmUVmw--\", \n",
      "        \"country\": \"US\", \n",
      "        \"domain_rank\": null, \n",
      "        \"title\": \"New Revelation Sugar Industry Covered Up Serious Disease Link 50 Years Ago\", \n",
      "        \"performance_score\": 0, \n",
      "        \"site\": \"naturalblaze.com\", \n",
      "        \"site_categories\": [\n",
      "            \"herbs_for_health\", \n",
      "            \"health\"\n",
      "        ], \n",
      "        \"participants_count\": 1, \n",
      "        \"title_full\": \"New Revelation Sugar Industry Covered Up Serious Disease Link 50 Years Ago\", \n",
      "        \"spam_score\": 0.0, \n",
      "        \"site_type\": \"blogs\", \n",
      "        \"published\": \"2017-11-26T21:14:00.000+02:00\", \n",
      "        \"replies_count\": 0, \n",
      "        \"uuid\": \"4820da7e0bc8ae70d24a99c5e5d3e95d322cfd59\"\n",
      "    }, \n",
      "    \"author\": \"Heather Callaghan\", \n",
      "    \"url\": \"http://omgili.com/ri/.wHSUbtEfZQK_U1UVUtLZdpU6BCOdfX.SvAZGdxHYlce.kI4k0Cv_udUYBNcAiTwXP9VpktZ169a2sxB7zZ_NctCdcgu9Zi5MFCqFugh4cDoPT51wmUVmw--\", \n",
      "    \"ord_in_thread\": 0, \n",
      "    \"title\": \"New Revelation Sugar Industry Covered Up Serious Disease Link 50 Years Ago\", \n",
      "    \"highlightText\": \"\", \n",
      "    \"language\": \"english\", \n",
      "    \"text\": \"New Revelation Sugar Industry Covered Up Serious Disease Link 50 Years Ago Posted on \\nBy Heather Callaghan , Editor \\nYou may have heard of the sugar industry\\u2019s attempt to get dietary fat blamed for heart disease when it manipulated results to cover up sugar\\u2019s role in cardiovascular illness . There is more to the story\\u2026 \\nLast year, three researchers turned heads everywhere when they uncovered evidence that the sugar industry secretly funded studies on sugar\\u2019s effects on mammals, only to then cut off from the results when sugar\\u2019s links to life-threatening disease emerged. \\nInstead, the sugar industry emphasized the role of dietary fat and sat back while high-fat foods took all the blame and Americans unwittingly continued to consume a toxic, disease-causing, refined product. This propaganda stunt not only caused other Big Food sectors to kick their own PR games into high gear, but also inadvertently created a decades-old inflammatory, hydrogenated-oil monstrosity that continues today. \\nSEE: Herbal Extract Found To Curb Appetite And Regulate Blood Sugar \\nNow, a year later, the researchers are back at it! Science Daily reports*: A U.S. sugar industry trade group appears to have pulled the plug on a study that was producing animal evidence linking sucrose to disease nearly 50 years ago , researchers argue in a paper publishing on November 21 in the open access journal PLOS Biology . \\nResearchers Cristin Kearns, Dorie Apollonio and Stanton Glantz from the University of California at San Francisco reviewed internal sugar industry documents and discovered that the Sugar Research Foundation (SRF) funded animal research to evaluate sucrose\\u2019s effects on cardiovascular health. When the evidence seemed to indicate that sucrose might be associated with heart disease and bladder cancer, they found, the foundation terminated the project without publishing the results. \\nPreviously, it was discovered that the SRF had secretly funded a 1967 review article that downplayed evidence linking refined sugar consumption to coronary heart disease. That review noted that gut microbes may explain why rats fed sugar had higher cholesterol levels than those fed starch, but dismissed any relevance for humans. \\nSEE: Regular Sugar Heals Leg Ulcers And Other Skin Wounds \\nIn the new paper, however, published this week in PLOS Biology , \\n\\u2026the team reports that the following year, SRF (which had changed its name in 1968 to the International Sugar Research Foundation, or ISRF ) launched a rat study called Project 259 \\u2018to measure the nutritional effects of the [bacterial] organisms in the intestinal tract\\u2019 when sucrose was consumed, compared to starch. \\nThe ISRF-funded research on rats by W.R.F. Pover of the University of Birmingham suggested that gut bacteria help mediate sugar\\u2019s adverse cardiovascular effects . Pover also reported findings that might indicate an increased risk of bladder cancer. \\u201cThis incidental finding of Project 259 demonstrated to ISRF that sucrose vs. starch consumption caused different metabolic effects,\\u201d Kearns and her colleagues argue, \\u201cand suggested that sucrose, by stimulating urinary beta-glucuronidase, may have a role in the pathogenesis of bladder cancer.\\u201d \\nThe ISRF described the finding in a September 1969 internal document as \\u201cone of the first demonstrations of a biological difference between sucrose and starch fed rats.\\u201d But soon after ISRF learned about these results \\u2014 and shortly before the research project was complete \\u2014 the group terminated funding for the project, and no findings from the work were published. Sugar Blues \\nProject 259 would have provided helpful evidence that there is a difference to human health between consuming refined sugar and starch which occurs abundantly in many nutritious vegetables, ancient grains and fruits. In the 1960s, scientists were debating the dietary cause of raised triglycerides\\u2026 \\nSEE: What A 70 Yr Old Woman Who Went Sugar-Free 28 Years Ago, Looks Like Today \\nAs you can see, whole-food starches were unfairly demonized while the sugar industry sat back, reaping all the benefits from everyone\\u2019s ignorance. Even old magazine ads reveal the sugar industry making outrageous claims that sugary junk food could aid weight loss \\u2013 that one could eat a chocolate bar or drink a cola before a meal to cut food consumption. Today \\u2013 cardiovascular disease remains the biggest killer in the world. \\nAnd cancer isn\\u2019t too far behind in first-world countries \\u2026 \\nBombshell report continues\\u2026 \\nThe results suggest that the current debate on the relative effects of sugar vs. starch may be rooted in more than 60 years of industry manipulation of science. Last year, the Sugar Association criticized a mouse study suggesting a link between sugar and increased tumor growth and metastasis, saying that \\u201cno credible link between ingested sugars and cancer has been established.\\u201d \\nThe analysis by Kearns and her colleagues of the industry\\u2019s own documents, in contrast, suggests that the industry knew of animal research suggesting this link and halted funding to protect its commercial interests half a century ago. The Hacking of the American Mind: The Science Behind the Corporate Takeover of Our Bodies and Brains \\nCo-author Stanton Glantz said: \\nThe kind of manipulation of research is similar what the tobacco industry does -This kind of behavior calls into question sugar industry-funded studies as a reliable source of information for public policy making. \\nThe authors concluded that extending Project 259\\u2019s funding would have been detrimental to the sugar industry. Thus, the researchers successfully unearthed solid proof of industry manipulation of science and the disease link with sugar. How sad that this revelation took generations to finally surface. \\nShare your thoughts below! Share this news! \\n*all emphasis added by H.C. \\nYou can republish and share this piece but author name and link back to homepage must appear at the top. This message and all internal links must remain intact. \\nDISCLAIMER: This article is not intended to provide medical advice, diagnosis or treatment. \\nHeather Callaghan is a Health Mentor, writer, speaker and food freedom advocate. She is the Editor and co-founder of NaturalBlaze as well as a certified Self-Referencing IITM Practitioner. \\nGet a nifty FREE eBook \\u2013 Like at Facebook, Twitter and Instagram . Tags:\", \n",
      "    \"external_links\": [], \n",
      "    \"published\": \"2017-11-26T21:14:00.000+02:00\", \n",
      "    \"crawled\": \"2017-11-27T01:48:03.023+02:00\", \n",
      "    \"highlightTitle\": \"\"\n",
      "}\n"
     ]
    }
   ],
   "source": [
    "print json.dumps(output[\"posts\"][0],indent=4)"
   ]
  },
  {
   "cell_type": "code",
   "execution_count": null,
   "metadata": {
    "collapsed": true
   },
   "outputs": [],
   "source": []
  },
  {
   "cell_type": "code",
   "execution_count": null,
   "metadata": {
    "collapsed": true
   },
   "outputs": [],
   "source": []
  },
  {
   "cell_type": "code",
   "execution_count": null,
   "metadata": {
    "collapsed": true
   },
   "outputs": [],
   "source": []
  },
  {
   "cell_type": "code",
   "execution_count": null,
   "metadata": {
    "collapsed": true
   },
   "outputs": [],
   "source": []
  },
  {
   "cell_type": "code",
   "execution_count": null,
   "metadata": {},
   "outputs": [],
   "source": []
  },
  {
   "cell_type": "code",
   "execution_count": null,
   "metadata": {},
   "outputs": [],
   "source": []
  },
  {
   "cell_type": "code",
   "execution_count": null,
   "metadata": {},
   "outputs": [],
   "source": []
  },
  {
   "cell_type": "code",
   "execution_count": null,
   "metadata": {
    "collapsed": true
   },
   "outputs": [],
   "source": []
  }
 ],
 "metadata": {
  "kernelspec": {
   "display_name": "Python 2",
   "language": "python",
   "name": "python2"
  },
  "language_info": {
   "codemirror_mode": {
    "name": "ipython",
    "version": 2
   },
   "file_extension": ".py",
   "mimetype": "text/x-python",
   "name": "python",
   "nbconvert_exporter": "python",
   "pygments_lexer": "ipython2",
   "version": "2.7.13"
  }
 },
 "nbformat": 4,
 "nbformat_minor": 2
}
