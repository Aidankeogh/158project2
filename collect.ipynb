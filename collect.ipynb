{
 "cells": [
  {
   "cell_type": "code",
   "execution_count": 135,
   "metadata": {},
   "outputs": [
    {
     "name": "stdout",
     "output_type": "stream",
     "text": [
      "493\n"
     ]
    }
   ],
   "source": [
    "import json\n",
    "sources = json.load(open(\"sources.json\",\"r\"))\n",
    "\n",
    "fakeSources = []\n",
    "for k,v in sources.iteritems():\n",
    "    if \"fake\" in v[\"type\"] or \"fake\" in v[\"2nd type\"] or \"fake\" in v[\"3rd type\"] \\\n",
    "    or \"junksci\" in v[\"type\"] or \"junksci\" in v[\"2nd type\"] or \"junksci\" in v[\"3rd type\"] \\\n",
    "    or \"hate\" in v[\"type\"] or \"hate\" in v[\"2nd type\"] or \"hate\" in v[\"3rd type\"] \\\n",
    "    or \"conspiracy\" in v[\"type\"] or \"conspiracy\" in v[\"2nd type\"] or \"conspiracy\" in v[\"3rd type\"]:   \n",
    "        fakeSources.append(k)\n",
    "\n",
    "print len(fakeSources)\n",
    "fakeStrings = [\"\"] * 49\n",
    "for i in range(49):\n",
    "    fakeStrings[i] = \"site:\" + fakeSources[10 * i].replace(\"/\",\"\")\n",
    "\n",
    "    for f in fakeSources[10 * i + 1:10 * (i + 1)]:\n",
    "        fakeStrings[i] += \" OR site:\" + f.replace(\"/\",\"\")"
   ]
  },
  {
   "cell_type": "code",
   "execution_count": 141,
   "metadata": {},
   "outputs": [
    {
     "name": "stdout",
     "output_type": "stream",
     "text": [
      "site:illuminati-news.com OR site:paulcraigroberts.org OR site:globalresearch.ca OR site:NoMoreFakeNews.com OR site:therightstuff.biz OR site:immediatesafety.org OR site:enabon.com OR site:wearechange.org OR site:iwanttoexplore.com OR site:freedomoutpost.com\n"
     ]
    }
   ],
   "source": [
    "print fakeString\n",
    "fakestring = \"site:infowar\""
   ]
  },
  {
   "cell_type": "code",
   "execution_count": null,
   "metadata": {
    "scrolled": true
   },
   "outputs": [],
   "source": [
    "sites = []\n",
    "tot = 0\n",
    "import webhoseio\n",
    "for fakeString in fakeStrings:\n",
    "    try:\n",
    "        webhoseio.config(token=\"27dfe87c-b2b4-4c6c-8385-6dd03f9716cd\")\n",
    "        query_params = {\n",
    "        \"q\": \"language:english is_first:true ( \" + fakeString + \" )\",\n",
    "        \"ts\": \"1509257254791\",\n",
    "        \"sort\": \"performance_score\"\n",
    "        }\n",
    "        output = webhoseio.query(\"filterWebContent\", query_params)\n",
    "        tot += output['totalResults']\n",
    "        print tot\n",
    "        for post in output[\"posts\"]:\n",
    "            sites.appendp[\"thread\"][\"site\"])\n",
    "    except:\n",
    "        print fakeString"
   ]
  },
  {
   "cell_type": "code",
   "execution_count": 138,
   "metadata": {},
   "outputs": [
    {
     "name": "stdout",
     "output_type": "stream",
     "text": [
      "[(u'infowars.com', 101), (u'thefederalistpapers.org', 100), (u'zerohedge.com', 100), (u'thefreethoughtproject.com', 100), (u'in5d.com', 100), (u'thegatewaypundit.com', 100), (u'conservativetribune.com', 100), (u'sputniknews.com', 100), (u'naturalnews.com', 100), (u'godlikeproductions.com', 100), (u'whowhatwhy.org', 99), (u'prisonplanet.com', 98), (u'ewao.com', 96), (u'greanvillepost.com', 94), (u'amren.com', 93), (u'investmentwatchblog.com', 90), (u'galacticconnection.com', 90), (u'disclose.tv', 90), (u'collective-evolution.com', 86), (u'fellowshipoftheminds.com', 85), (u'washingtonsblog.com', 81), (u'govtslaves.info', 79), (u'yournewswire.com', 76), (u'usasupreme.com', 76), (u'freedomoutpost.com', 75), (u'fromthetrenchesworldreport.com', 71), (u'conservativedailypost.com', 69), (u'thedailysheeple.com', 69), (u'frontpagemag.com', 65), (u'wakingtimes.com', 63), (u'abovetopsecret.com', 63), (u'dcclothesline.com', 63), (u'shoebat.com', 60), (u'thetruthseeker.co.uk', 58), (u'truthbroadcastnetwork.com', 52), (u'thecommonsenseshow.com', 46), (u'cryptogon.com', 46), (u'activistpost.com', 45), (u'usanewsflash.com', 44), (u'freedomdaily.com', 42), (u'corbettreport.com', 40), (u'therightscoop.com', 38), (u'prepperwebsite.com', 38), (u'humansarefree.com', 34), (u'darkmoon.me', 31), (u'davidduke.com', 30), (u'empireherald.com', 30), (u'pamelageller.com', 29), (u'informationclearinghouse.info', 28), (u'nowtheendbegins.com', 28), (u'theeconomiccollapseblog.com', 26), (u'gangstergovernment.com', 24), (u'truthandaction.org', 24), (u'redflagnews.com', 23), (u'allnewspipeline.com', 22), (u'returnofkings.com', 18), (u'paulcraigroberts.org', 17), (u'awarenessact.com', 17), (u'familysecuritymatters.org', 17), (u'drrichswier.com', 15), (u'newsfrompolitics.com', 15), (u'thelibertybeacon.com', 15), (u'beforeitsnews.com', 14), (u'geoengineeringwatch.org', 14), (u'ancient-code.com', 13), (u'secretsofthefed.com', 13), (u'ihavethetruth.com', 13), (u'socialeverythings.com', 12), (u'clashdaily.com', 10), (u'nationalreport.net', 9), (u'naturalblaze.com', 9), (u'canadafreepress.com', 9), (u'empirenews.net', 9), (u'thepoliticalinsider.com', 9), (u'intellihub.com', 8), (u'whatreallyhappened.com', 8), (u'thephaser.com', 8), (u'orientalreview.org', 7), (u'theantimedia.org', 7), (u'awdnews.com', 6), (u'usatoday.com', 6), (u'countdowntozerotime.com', 6), (u'americanfreepress.net', 6), (u'healthimpactnews.com', 6), (u'wearechange.org', 6), (u'investmentresearchdynamics.com', 5), (u'responsibletechnology.org', 5), (u'healthy-holistic-living.com', 4), (u'lovethispic.com', 4), (u'newstarget.com', 4), (u'topinfopost.com', 4), (u'theguardian.com', 3), (u'abc7.com', 3), (u'tmz.com', 3), (u'indianexpress.com', 3), (u'indiatimes.com', 3), (u'nfl.com', 3), (u'patriotrising.com', 3), (u'al.com', 2), (u'conservativefighters.com', 2)]\n"
     ]
    }
   ],
   "source": [
    "\n",
    "    \n",
    "from collections import Counter\n",
    "c = Counter(sites)\n",
    "\n",
    "print c.most_common(100)"
   ]
  },
  {
   "cell_type": "code",
   "execution_count": 139,
   "metadata": {},
   "outputs": [],
   "source": [
    "popularSites = []\n",
    "for n in c.most_common(100)[1:]:\n",
    "    popularSites.append(n[0])"
   ]
  },
  {
   "cell_type": "code",
   "execution_count": 140,
   "metadata": {},
   "outputs": [],
   "source": [
    "json.dump(popularSites,open(\"popularSources.json\",\"w\"))"
   ]
  },
  {
   "cell_type": "code",
   "execution_count": 68,
   "metadata": {},
   "outputs": [],
   "source": [
    "output = webhoseio.get_next()"
   ]
  },
  {
   "cell_type": "code",
   "execution_count": 69,
   "metadata": {},
   "outputs": [],
   "source": [
    "\n",
    "\n",
    "c = Counter(sites)"
   ]
  },
  {
   "cell_type": "code",
   "execution_count": 70,
   "metadata": {},
   "outputs": [
    {
     "name": "stdout",
     "output_type": "stream",
     "text": [
      "Counter({u'beforeitsnews.com': 190, u'investmentwatchblog.com': 71, u'theeventchronicle.com': 18, u'collective-evolution.com': 12, u'thelibertybeacon.com': 4, u'healthimpactnews.com': 2, u'clashdaily.com': 2, u'naturalblaze.com': 1})\n"
     ]
    }
   ],
   "source": [
    "print c"
   ]
  },
  {
   "cell_type": "code",
   "execution_count": 72,
   "metadata": {},
   "outputs": [
    {
     "data": {
      "text/plain": [
       "[(u'beforeitsnews.com', 190),\n",
       " (u'investmentwatchblog.com', 71),\n",
       " (u'theeventchronicle.com', 18),\n",
       " (u'collective-evolution.com', 12),\n",
       " (u'thelibertybeacon.com', 4)]"
      ]
     },
     "execution_count": 72,
     "metadata": {},
     "output_type": "execute_result"
    }
   ],
   "source": [
    "c.most_common(5)"
   ]
  },
  {
   "cell_type": "code",
   "execution_count": 97,
   "metadata": {},
   "outputs": [
    {
     "data": {
      "text/plain": [
       "False"
      ]
     },
     "execution_count": 97,
     "metadata": {},
     "output_type": "execute_result"
    }
   ],
   "source": [
    "\"/\" not in \"educateinspirechange.org/health\""
   ]
  },
  {
   "cell_type": "code",
   "execution_count": 123,
   "metadata": {},
   "outputs": [
    {
     "name": "stdout",
     "output_type": "stream",
     "text": [
      "beforeitsnews.com\n"
     ]
    }
   ],
   "source": []
  },
  {
   "cell_type": "code",
   "execution_count": null,
   "metadata": {
    "collapsed": true
   },
   "outputs": [],
   "source": []
  }
 ],
 "metadata": {
  "kernelspec": {
   "display_name": "Python 2",
   "language": "python",
   "name": "python2"
  },
  "language_info": {
   "codemirror_mode": {
    "name": "ipython",
    "version": 2
   },
   "file_extension": ".py",
   "mimetype": "text/x-python",
   "name": "python",
   "nbconvert_exporter": "python",
   "pygments_lexer": "ipython2",
   "version": "2.7.13"
  }
 },
 "nbformat": 4,
 "nbformat_minor": 2
}
