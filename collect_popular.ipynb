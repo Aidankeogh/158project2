{
 "cells": [
  {
   "cell_type": "code",
   "execution_count": 3,
   "metadata": {
    "collapsed": true
   },
   "outputs": [],
   "source": [
    "import json\n",
    "import webhoseio\n",
    "from collections import Counter\n",
    "sources = json.load(open(\"popularSources.json\",\"r\"))\n",
    "fakestring = \"site:\" + sources[0]\n",
    "i = 0\n",
    "for source in sources[1:]:\n",
    "    i = i + 1\n",
    "    if i % 3 == 2:\n",
    "        fakestring += \" OR site:\" + source"
   ]
  },
  {
   "cell_type": "code",
   "execution_count": null,
   "metadata": {},
   "outputs": [],
   "source": []
  },
  {
   "cell_type": "code",
   "execution_count": null,
   "metadata": {
    "collapsed": true
   },
   "outputs": [],
   "source": []
  },
  {
   "cell_type": "code",
   "execution_count": null,
   "metadata": {
    "collapsed": true
   },
   "outputs": [],
   "source": []
  },
  {
   "cell_type": "code",
   "execution_count": 4,
   "metadata": {},
   "outputs": [],
   "source": [
    "sites = []\n",
    "webhoseio.config(token=\"27dfe87c-b2b4-4c6c-8385-6dd03f9716cd\")\n",
    "query_params = {\n",
    "\"q\": \"language:english is_first:true ( \" + fakestring + \" )\",\n",
    "\"ts\": \"1509257254791\",\n",
    "\"sort\": \"performance_score\"\n",
    "}\n",
    "output = webhoseio.query(\"filterWebContent\", query_params)\n"
   ]
  },
  {
   "cell_type": "code",
   "execution_count": 5,
   "metadata": {},
   "outputs": [
    {
     "name": "stdout",
     "output_type": "stream",
     "text": [
      "0.0\n",
      "0.0232558139535\n",
      "0.046511627907\n",
      "0.0697674418605\n",
      "0.093023255814\n",
      "0.116279069767\n",
      "0.139534883721\n",
      "0.162790697674\n",
      "0.186046511628\n",
      "0.209302325581\n",
      "0.232558139535\n",
      "0.255813953488\n",
      "0.279069767442\n",
      "0.302325581395\n",
      "0.325581395349\n",
      "0.348837209302\n",
      "0.372093023256\n",
      "0.395348837209\n",
      "0.418604651163\n",
      "0.441860465116\n",
      "0.46511627907\n",
      "0.488372093023\n",
      "0.511627906977\n",
      "0.53488372093\n",
      "0.558139534884\n",
      "0.581395348837\n",
      "0.604651162791\n",
      "0.627906976744\n",
      "0.651162790698\n",
      "0.674418604651\n",
      "0.697674418605\n",
      "0.720930232558\n",
      "0.744186046512\n",
      "0.767441860465\n",
      "0.790697674419\n",
      "0.813953488372\n",
      "0.837209302326\n",
      "0.860465116279\n",
      "0.883720930233\n",
      "0.906976744186\n",
      "0.93023255814\n",
      "0.953488372093\n",
      "0.976744186047\n"
     ]
    }
   ],
   "source": [
    "tot = output[\"totalResults\"] / 200\n",
    "for i in range(tot):\n",
    "    print i * 1.0/tot\n",
    "    for post in output['posts']:\n",
    "        d = {   \"info\": post[\"thread\"],\n",
    "                \"text\": post[\"text\"],\n",
    "                \"id\"  : post[\"uuid\"]\n",
    "            }\n",
    "        json.dump(d,open(\"data/fakenews.json\",\"a\"))\n",
    "        open(\"data/fakenews.json\",\"a\").write('\\n')\n",
    "    output = webhoseio.get_next()"
   ]
  },
  {
   "cell_type": "code",
   "execution_count": null,
   "metadata": {
    "collapsed": true
   },
   "outputs": [],
   "source": []
  },
  {
   "cell_type": "code",
   "execution_count": 6,
   "metadata": {},
   "outputs": [
    {
     "name": "stdout",
     "output_type": "stream",
     "text": [
      "{\n",
      "    \"entities\": {\n",
      "        \"persons\": [], \n",
      "        \"locations\": [], \n",
      "        \"organizations\": []\n",
      "    }, \n",
      "    \"rating\": null, \n",
      "    \"uuid\": \"7886b8e6ba20f484ae2bd6f94772b32a2cfdd862\", \n",
      "    \"thread\": {\n",
      "        \"social\": {\n",
      "            \"gplus\": {\n",
      "                \"shares\": 0\n",
      "            }, \n",
      "            \"pinterest\": {\n",
      "                \"shares\": 0\n",
      "            }, \n",
      "            \"vk\": {\n",
      "                \"shares\": 0\n",
      "            }, \n",
      "            \"linkedin\": {\n",
      "                \"shares\": 0\n",
      "            }, \n",
      "            \"facebook\": {\n",
      "                \"likes\": 0, \n",
      "                \"comments\": 0, \n",
      "                \"shares\": 0\n",
      "            }, \n",
      "            \"stumbledupon\": {\n",
      "                \"shares\": 0\n",
      "            }\n",
      "        }, \n",
      "        \"site_full\": \"galacticconnection.com\", \n",
      "        \"main_image\": \"\", \n",
      "        \"site_section\": \"http://galacticconnection.com/feed\", \n",
      "        \"section_title\": \"Galactic Connection\", \n",
      "        \"url\": \"http://omgili.com/ri/_DuQb1SwTFriQbIYbcOWMrFPcsO22I0HcY0gh74.yJcIO8Mx5Ol_mCle.qQ2FCCjV7l1.y6DhJRccc0T1nb8uuF94I.4H4JywWebt2WBP78CXLbrI2ZouqVOgOAXXJ_T\", \n",
      "        \"country\": \"US\", \n",
      "        \"domain_rank\": null, \n",
      "        \"title\": \"Solutions to shift extremes conditions \\u2013 Gregg Braden [VIDEO]\", \n",
      "        \"performance_score\": 0, \n",
      "        \"site\": \"galacticconnection.com\", \n",
      "        \"site_categories\": [\n",
      "            \"media\"\n",
      "        ], \n",
      "        \"participants_count\": 1, \n",
      "        \"title_full\": \"Solutions to shift extremes conditions \\u2013 Gregg Braden [VIDEO]\", \n",
      "        \"spam_score\": 0.0, \n",
      "        \"site_type\": \"blogs\", \n",
      "        \"published\": \"2017-11-28T21:32:00.000+02:00\", \n",
      "        \"replies_count\": 0, \n",
      "        \"uuid\": \"7886b8e6ba20f484ae2bd6f94772b32a2cfdd862\"\n",
      "    }, \n",
      "    \"author\": \"M M\", \n",
      "    \"url\": \"http://omgili.com/ri/_DuQb1SwTFriQbIYbcOWMrFPcsO22I0HcY0gh74.yJcIO8Mx5Ol_mCle.qQ2FCCjV7l1.y6DhJRccc0T1nb8uuF94I.4H4JywWebt2WBP78CXLbrI2ZouqVOgOAXXJ_T\", \n",
      "    \"ord_in_thread\": 0, \n",
      "    \"title\": \"Solutions to shift extremes conditions \\u2013 Gregg Braden [VIDEO]\", \n",
      "    \"highlightText\": \"\", \n",
      "    \"language\": \"english\", \n",
      "    \"text\": \"Click Here To Learn More About Alexandra's Personalized Essences Psychic Protection Click Here for More Information on Psychic Protection! Implant Removal Series Click here to listen to the IRP and SA/DNA Process Read The Testimonials Click Here To Read What Others Are Experiencing! Copyright \\u00a9 2017 by Galactic Connection. All Rights Reserved. \\nExcerpts of material created by Galactic Connection may be used, provided that full and clear credit is given to Alexandra Meadors and www.galacticconnection.com with appropriate and specific direction to the original content. The Daily Blog page operates under a Creative Commons license. Information from our Daily Blog page may be re-distributed as long as proper attribution to the author and direction to their original content is provided. Unauthorized use and/or duplication of any material on this website without express and written permission from its author and owner is strictly prohibited. Thank you. \\nPrivacy Policy \\nBy subscribing to GalacticConnection.com you acknowledge that your name and e-mail address will be added to our database. As with all other personal information, only working affiliates of GalacticConnection.com have access to this data. We do not give GalacticConnection.com addresses to outside companies, nor will we ever rent or sell your email address. Any e-mail you send to GalacticConnection.com is completely confidential. Therefore, we will not add your name to our e-mail list without your permission. Continue reading... Galactic Connection 2016 | Design & Development by AA at Superluminal Systems Sign Up forOur Newsletter \\nJoin our newsletter to receive exclusive updates, interviews, discounts, and more. Join Us!\", \n",
      "    \"external_links\": [], \n",
      "    \"published\": \"2017-11-28T21:32:00.000+02:00\", \n",
      "    \"crawled\": \"2017-11-29T01:07:00.023+02:00\", \n",
      "    \"highlightTitle\": \"\"\n",
      "}\n"
     ]
    }
   ],
   "source": [
    "print json.dumps(output[\"posts\"][0],indent=4)"
   ]
  },
  {
   "cell_type": "code",
   "execution_count": null,
   "metadata": {
    "collapsed": true
   },
   "outputs": [],
   "source": []
  },
  {
   "cell_type": "code",
   "execution_count": null,
   "metadata": {},
   "outputs": [],
   "source": []
  },
  {
   "cell_type": "code",
   "execution_count": null,
   "metadata": {},
   "outputs": [],
   "source": []
  },
  {
   "cell_type": "code",
   "execution_count": null,
   "metadata": {},
   "outputs": [],
   "source": []
  },
  {
   "cell_type": "code",
   "execution_count": null,
   "metadata": {
    "collapsed": true
   },
   "outputs": [],
   "source": []
  }
 ],
 "metadata": {
  "kernelspec": {
   "display_name": "Python 2",
   "language": "python",
   "name": "python2"
  },
  "language_info": {
   "codemirror_mode": {
    "name": "ipython",
    "version": 2
   },
   "file_extension": ".py",
   "mimetype": "text/x-python",
   "name": "python",
   "nbconvert_exporter": "python",
   "pygments_lexer": "ipython2",
   "version": "2.7.13"
  }
 },
 "nbformat": 4,
 "nbformat_minor": 2
}
