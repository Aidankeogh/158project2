{
 "cells": [
  {
   "cell_type": "code",
   "execution_count": 13,
   "metadata": {
    "collapsed": true
   },
   "outputs": [],
   "source": [
    "from collections import defaultdict, Counter\n",
    "import json"
   ]
  },
  {
   "cell_type": "code",
   "execution_count": 14,
   "metadata": {
    "collapsed": true
   },
   "outputs": [],
   "source": [
    "fakenews = []\n",
    "\n",
    "readfile = open(\"data/fakenews.json\",\"r\")\n",
    "for line in readfile:\n",
    "    fakenews.append(json.loads(line))"
   ]
  },
  {
   "cell_type": "code",
   "execution_count": 15,
   "metadata": {
    "collapsed": true
   },
   "outputs": [],
   "source": [
    "realnews = []\n",
    "readfile = open(\"data/realnews.json\",\"r\")\n",
    "for line in readfile:\n",
    "    realnews.append(json.loads(line))"
   ]
  },
  {
   "cell_type": "code",
   "execution_count": null,
   "metadata": {
    "collapsed": true
   },
   "outputs": [],
   "source": []
  },
  {
   "cell_type": "code",
   "execution_count": 16,
   "metadata": {},
   "outputs": [
    {
     "name": "stdout",
     "output_type": "stream",
     "text": [
      "24400\n",
      "26000\n"
     ]
    }
   ],
   "source": [
    "print len(fakenews)\n",
    "print len(realnews)"
   ]
  },
  {
   "cell_type": "code",
   "execution_count": 17,
   "metadata": {
    "collapsed": true
   },
   "outputs": [],
   "source": [
    "fakeCats = defaultdict(int)\n",
    "realCats = defaultdict(int)\n",
    "fakeSites = defaultdict(int)\n",
    "realSites = defaultdict(int)\n",
    "fakeReasons = defaultdict(int)\n",
    "\n",
    "tags = json.load(open(\"sources.json\"))"
   ]
  },
  {
   "cell_type": "code",
   "execution_count": 18,
   "metadata": {
    "collapsed": true
   },
   "outputs": [],
   "source": [
    "for n in fakenews:\n",
    "    site = n[\"info\"][\"site\"]\n",
    "    fakeSites[site] += 1\n",
    "    cats = n[\"info\"][\"site_categories\"]\n",
    "    for c in cats:\n",
    "        fakeCats[c] += 1\n",
    "    \n",
    "    v = tags[site]\n",
    "    \n",
    "    if \"hate\" in v[\"type\"] or \"hate\" in v[\"2nd type\"] or \"hate\" in v[\"3rd type\"]:\n",
    "        fakeReasons[\"hate\"] += 1\n",
    "    elif \"fake\" in v[\"type\"] or \"fake\" in v[\"2nd type\"] or \"fake\" in v[\"3rd type\"]:\n",
    "        fakeReasons[\"fake\"] += 1\n",
    "    elif \"junksci\" in v[\"type\"] or \"junksci\" in v[\"2nd type\"] or \"junksci\" in v[\"3rd type\"]:\n",
    "        fakeReasons[\"junksci\"] += 1\n",
    "    elif \"conspiracy\" in v[\"type\"] or \"conspiracy\" in v[\"2nd type\"] or \"conspiracy\" in v[\"3rd type\"]:\n",
    "        fakeReasons[\"conspiracy\"] += 1   \n",
    "    \n",
    "for n in realnews:\n",
    "    site = n[\"info\"][\"site\"]\n",
    "    realSites[site] += 1\n",
    "    cats = n[\"info\"][\"site_categories\"]\n",
    "    for c in cats:\n",
    "        realCats[c] += 1\n",
    "    "
   ]
  },
  {
   "cell_type": "code",
   "execution_count": 19,
   "metadata": {
    "collapsed": true
   },
   "outputs": [],
   "source": [
    "fakeCats = Counter(fakeCats)\n",
    "realCats = Counter(realCats)\n",
    "fakeSites = Counter(fakeSites)\n",
    "realSites = Counter(realSites)\n",
    "fakeReasons = Counter(fakeReasons)\n"
   ]
  },
  {
   "cell_type": "code",
   "execution_count": 23,
   "metadata": {},
   "outputs": [
    {
     "name": "stdout",
     "output_type": "stream",
     "text": [
      "[(u'media', 19958), (u'education', 2167), (u'finance', 1930), (u'financial_news', 1930), (u'law_government_and_politics', 1928), (u'politics', 1928), (u'7_12_education', 1724), (u'social', 1263), (u'health', 1194), (u'adult', 1187), (u'non_standard_content', 1187), (u'herbs_for_health', 1024), (u'religion', 805), (u'judaism', 478), (u'islam', 233), (u'uncategorized', 225), (u'tech', 206), (u'tennis', 178), (u'sports', 178), (u'hobbies_and_interests', 170)]\n"
     ]
    }
   ],
   "source": [
    "print fakeCats.most_common(20)"
   ]
  },
  {
   "cell_type": "code",
   "execution_count": 24,
   "metadata": {},
   "outputs": [
    {
     "name": "stdout",
     "output_type": "stream",
     "text": [
      "[(u'media', 21096), (u'finance', 3266), (u'financial_news', 3246), (u'sports', 1060), (u'baseball', 700), (u'non_standard_content', 669), (u'football', 239), (u'social', 81), (u'business', 65), (u'cancer', 47), (u'health', 47), (u'entertainment', 27), (u'advertising', 24), (u'latter_day_saints', 23), (u'religion', 23), (u'marketing', 20), (u'distance_learning', 14), (u'education', 14), (u'television', 11), (u'pro_basketball', 8)]\n"
     ]
    }
   ],
   "source": [
    "print realCats.most_common(20)"
   ]
  },
  {
   "cell_type": "code",
   "execution_count": 25,
   "metadata": {},
   "outputs": [
    {
     "name": "stdout",
     "output_type": "stream",
     "text": [
      "[(u'sputniknews.com', 3501), (u'beforeitsnews.com', 3144), (u'zerohedge.com', 1930), (u'fromthetrenchesworldreport.com', 1728), (u'thefederalistpapers.org', 1702), (u'thegatewaypundit.com', 1541), (u'truthbroadcastnetwork.com', 991), (u'infowars.com', 897), (u'naturalnews.com', 718), (u'galacticconnection.com', 668), (u'frontpagemag.com', 601), (u'yournewswire.com', 511), (u'prisonplanet.com', 509), (u'conservativedailypost.com', 501), (u'fellowshipoftheminds.com', 478), (u'activistpost.com', 394), (u'greanvillepost.com', 394), (u'thelibertybeacon.com', 370), (u'humansarefree.com', 260), (u'thepoliticalinsider.com', 225)]\n"
     ]
    }
   ],
   "source": [
    "print fakeSites.most_common(20)"
   ]
  },
  {
   "cell_type": "code",
   "execution_count": 26,
   "metadata": {},
   "outputs": [
    {
     "name": "stdout",
     "output_type": "stream",
     "text": [
      "[(u'usatoday.com', 10057), (u'cnn.com', 5987), (u'bbc.com', 5718), (u'wsj.com', 2915), (u'pbs.org', 659), (u'economist.com', 653), (u'cbs.com', 11)]\n"
     ]
    }
   ],
   "source": [
    "print realSites.most_common(20)"
   ]
  },
  {
   "cell_type": "code",
   "execution_count": 27,
   "metadata": {},
   "outputs": [
    {
     "name": "stdout",
     "output_type": "stream",
     "text": [
      "[('conspiracy', 10224), ('fake', 7994), ('junksci', 5274), ('hate', 908)]\n"
     ]
    }
   ],
   "source": [
    "print fakeReasons.most_common(20)"
   ]
  },
  {
   "cell_type": "code",
   "execution_count": null,
   "metadata": {},
   "outputs": [],
   "source": []
  },
  {
   "cell_type": "code",
   "execution_count": 22,
   "metadata": {
    "collapsed": true
   },
   "outputs": [],
   "source": []
  },
  {
   "cell_type": "code",
   "execution_count": null,
   "metadata": {
    "collapsed": true
   },
   "outputs": [],
   "source": []
  }
 ],
 "metadata": {
  "kernelspec": {
   "display_name": "Python 2",
   "language": "python",
   "name": "python2"
  },
  "language_info": {
   "codemirror_mode": {
    "name": "ipython",
    "version": 2
   },
   "file_extension": ".py",
   "mimetype": "text/x-python",
   "name": "python",
   "nbconvert_exporter": "python",
   "pygments_lexer": "ipython2",
   "version": "2.7.13"
  }
 },
 "nbformat": 4,
 "nbformat_minor": 2
}
