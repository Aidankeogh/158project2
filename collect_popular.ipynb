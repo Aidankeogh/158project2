{
 "cells": [
  {
   "cell_type": "code",
   "execution_count": 34,
   "metadata": {
    "collapsed": true
   },
   "outputs": [],
   "source": [
    "import json\n",
    "import webhoseio\n",
    "from collections import Counter\n",
    "sources = json.load(open(\"popularSources.json\",\"r\"))\n",
    "\n",
    "fakestring = \"site:\" + sources[0]\n",
    "for source in sources[1:]:\n",
    "    fakestring += \" OR site:\" + source"
   ]
  },
  {
   "cell_type": "code",
   "execution_count": 50,
   "metadata": {},
   "outputs": [],
   "source": [
    "fakestring = \"site:infowars.com\""
   ]
  },
  {
   "cell_type": "code",
   "execution_count": null,
   "metadata": {
    "collapsed": true
   },
   "outputs": [],
   "source": []
  },
  {
   "cell_type": "code",
   "execution_count": null,
   "metadata": {},
   "outputs": [],
   "source": []
  },
  {
   "cell_type": "code",
   "execution_count": 51,
   "metadata": {},
   "outputs": [
    {
     "ename": "ConnectionError",
     "evalue": "HTTPConnectionPool(host='webhose.io', port=80): Max retries exceeded with url: /filterWebContent?q=language%3Aenglish+is_first%3Atrue+%28+site%3Ainfowars.com+%29&sort=performance_score&token=27dfe87c-b2b4-4c6c-8385-6dd03f9716cd&ts=1509257254791&format=json (Caused by NewConnectionError('<urllib3.connection.HTTPConnection object at 0x7f9ac8850690>: Failed to establish a new connection: [Errno 110] Connection timed out',))",
     "output_type": "error",
     "traceback": [
      "\u001b[0;31m---------------------------------------------------------------------------\u001b[0m",
      "\u001b[0;31mConnectionError\u001b[0m                           Traceback (most recent call last)",
      "\u001b[0;32m<ipython-input-51-12cc9605cac4>\u001b[0m in \u001b[0;36m<module>\u001b[0;34m()\u001b[0m\n\u001b[1;32m      6\u001b[0m \u001b[0;34m\"sort\"\u001b[0m\u001b[0;34m:\u001b[0m \u001b[0;34m\"performance_score\"\u001b[0m\u001b[0;34m\u001b[0m\u001b[0m\n\u001b[1;32m      7\u001b[0m }\n\u001b[0;32m----> 8\u001b[0;31m \u001b[0moutput\u001b[0m \u001b[0;34m=\u001b[0m \u001b[0mwebhoseio\u001b[0m\u001b[0;34m.\u001b[0m\u001b[0mquery\u001b[0m\u001b[0;34m(\u001b[0m\u001b[0;34m\"filterWebContent\"\u001b[0m\u001b[0;34m,\u001b[0m \u001b[0mquery_params\u001b[0m\u001b[0;34m)\u001b[0m\u001b[0;34m\u001b[0m\u001b[0m\n\u001b[0m\u001b[1;32m      9\u001b[0m \u001b[0;32mprint\u001b[0m \u001b[0moutput\u001b[0m\u001b[0;34m[\u001b[0m\u001b[0;34m'totalResults'\u001b[0m\u001b[0;34m]\u001b[0m\u001b[0;34m\u001b[0m\u001b[0m\n\u001b[1;32m     10\u001b[0m \u001b[0;34m\u001b[0m\u001b[0m\n",
      "\u001b[0;32m/home/aidan/anaconda2/lib/python2.7/site-packages/webhoseio/__init__.pyc\u001b[0m in \u001b[0;36mquery\u001b[0;34m(end_point_str, param_dict)\u001b[0m\n\u001b[1;32m     35\u001b[0m \u001b[0;34m\u001b[0m\u001b[0m\n\u001b[1;32m     36\u001b[0m \u001b[0;32mdef\u001b[0m \u001b[0mquery\u001b[0m\u001b[0;34m(\u001b[0m\u001b[0mend_point_str\u001b[0m\u001b[0;34m,\u001b[0m \u001b[0mparam_dict\u001b[0m\u001b[0;34m=\u001b[0m\u001b[0mNone\u001b[0m\u001b[0;34m)\u001b[0m\u001b[0;34m:\u001b[0m\u001b[0;34m\u001b[0m\u001b[0m\n\u001b[0;32m---> 37\u001b[0;31m     \u001b[0;32mreturn\u001b[0m \u001b[0m__session\u001b[0m\u001b[0;34m.\u001b[0m\u001b[0mquery\u001b[0m\u001b[0;34m(\u001b[0m\u001b[0mend_point_str\u001b[0m\u001b[0;34m,\u001b[0m \u001b[0mparam_dict\u001b[0m\u001b[0;34m)\u001b[0m\u001b[0;34m\u001b[0m\u001b[0m\n\u001b[0m\u001b[1;32m     38\u001b[0m \u001b[0;34m\u001b[0m\u001b[0m\n\u001b[1;32m     39\u001b[0m \u001b[0;34m\u001b[0m\u001b[0m\n",
      "\u001b[0;32m/home/aidan/anaconda2/lib/python2.7/site-packages/webhoseio/__init__.pyc\u001b[0m in \u001b[0;36mquery\u001b[0;34m(self, end_point_str, param_dict)\u001b[0m\n\u001b[1;32m     15\u001b[0m             \u001b[0mparam_dict\u001b[0m\u001b[0;34m.\u001b[0m\u001b[0mupdate\u001b[0m\u001b[0;34m(\u001b[0m\u001b[0;34m{\u001b[0m\u001b[0;34m\"format\"\u001b[0m\u001b[0;34m:\u001b[0m \u001b[0;34m\"json\"\u001b[0m\u001b[0;34m}\u001b[0m\u001b[0;34m)\u001b[0m\u001b[0;34m\u001b[0m\u001b[0m\n\u001b[1;32m     16\u001b[0m \u001b[0;34m\u001b[0m\u001b[0m\n\u001b[0;32m---> 17\u001b[0;31m         \u001b[0mresponse\u001b[0m \u001b[0;34m=\u001b[0m \u001b[0mself\u001b[0m\u001b[0;34m.\u001b[0m\u001b[0msession\u001b[0m\u001b[0;34m.\u001b[0m\u001b[0mget\u001b[0m\u001b[0;34m(\u001b[0m\u001b[0;34m\"http://webhose.io/\"\u001b[0m \u001b[0;34m+\u001b[0m \u001b[0mend_point_str\u001b[0m\u001b[0;34m,\u001b[0m \u001b[0mparams\u001b[0m\u001b[0;34m=\u001b[0m\u001b[0mparam_dict\u001b[0m\u001b[0;34m)\u001b[0m\u001b[0;34m\u001b[0m\u001b[0m\n\u001b[0m\u001b[1;32m     18\u001b[0m         \u001b[0;32mif\u001b[0m \u001b[0mresponse\u001b[0m\u001b[0;34m.\u001b[0m\u001b[0mstatus_code\u001b[0m \u001b[0;34m!=\u001b[0m \u001b[0;36m200\u001b[0m\u001b[0;34m:\u001b[0m\u001b[0;34m\u001b[0m\u001b[0m\n\u001b[1;32m     19\u001b[0m             \u001b[0;32mraise\u001b[0m \u001b[0mException\u001b[0m\u001b[0;34m(\u001b[0m\u001b[0mresponse\u001b[0m\u001b[0;34m.\u001b[0m\u001b[0mtext\u001b[0m\u001b[0;34m)\u001b[0m\u001b[0;34m\u001b[0m\u001b[0m\n",
      "\u001b[0;32m/home/aidan/anaconda2/lib/python2.7/site-packages/requests/sessions.pyc\u001b[0m in \u001b[0;36mget\u001b[0;34m(self, url, **kwargs)\u001b[0m\n\u001b[1;32m    519\u001b[0m \u001b[0;34m\u001b[0m\u001b[0m\n\u001b[1;32m    520\u001b[0m         \u001b[0mkwargs\u001b[0m\u001b[0;34m.\u001b[0m\u001b[0msetdefault\u001b[0m\u001b[0;34m(\u001b[0m\u001b[0;34m'allow_redirects'\u001b[0m\u001b[0;34m,\u001b[0m \u001b[0mTrue\u001b[0m\u001b[0;34m)\u001b[0m\u001b[0;34m\u001b[0m\u001b[0m\n\u001b[0;32m--> 521\u001b[0;31m         \u001b[0;32mreturn\u001b[0m \u001b[0mself\u001b[0m\u001b[0;34m.\u001b[0m\u001b[0mrequest\u001b[0m\u001b[0;34m(\u001b[0m\u001b[0;34m'GET'\u001b[0m\u001b[0;34m,\u001b[0m \u001b[0murl\u001b[0m\u001b[0;34m,\u001b[0m \u001b[0;34m**\u001b[0m\u001b[0mkwargs\u001b[0m\u001b[0;34m)\u001b[0m\u001b[0;34m\u001b[0m\u001b[0m\n\u001b[0m\u001b[1;32m    522\u001b[0m \u001b[0;34m\u001b[0m\u001b[0m\n\u001b[1;32m    523\u001b[0m     \u001b[0;32mdef\u001b[0m \u001b[0moptions\u001b[0m\u001b[0;34m(\u001b[0m\u001b[0mself\u001b[0m\u001b[0;34m,\u001b[0m \u001b[0murl\u001b[0m\u001b[0;34m,\u001b[0m \u001b[0;34m**\u001b[0m\u001b[0mkwargs\u001b[0m\u001b[0;34m)\u001b[0m\u001b[0;34m:\u001b[0m\u001b[0;34m\u001b[0m\u001b[0m\n",
      "\u001b[0;32m/home/aidan/anaconda2/lib/python2.7/site-packages/requests/sessions.pyc\u001b[0m in \u001b[0;36mrequest\u001b[0;34m(self, method, url, params, data, headers, cookies, files, auth, timeout, allow_redirects, proxies, hooks, stream, verify, cert, json)\u001b[0m\n\u001b[1;32m    506\u001b[0m         }\n\u001b[1;32m    507\u001b[0m         \u001b[0msend_kwargs\u001b[0m\u001b[0;34m.\u001b[0m\u001b[0mupdate\u001b[0m\u001b[0;34m(\u001b[0m\u001b[0msettings\u001b[0m\u001b[0;34m)\u001b[0m\u001b[0;34m\u001b[0m\u001b[0m\n\u001b[0;32m--> 508\u001b[0;31m         \u001b[0mresp\u001b[0m \u001b[0;34m=\u001b[0m \u001b[0mself\u001b[0m\u001b[0;34m.\u001b[0m\u001b[0msend\u001b[0m\u001b[0;34m(\u001b[0m\u001b[0mprep\u001b[0m\u001b[0;34m,\u001b[0m \u001b[0;34m**\u001b[0m\u001b[0msend_kwargs\u001b[0m\u001b[0;34m)\u001b[0m\u001b[0;34m\u001b[0m\u001b[0m\n\u001b[0m\u001b[1;32m    509\u001b[0m \u001b[0;34m\u001b[0m\u001b[0m\n\u001b[1;32m    510\u001b[0m         \u001b[0;32mreturn\u001b[0m \u001b[0mresp\u001b[0m\u001b[0;34m\u001b[0m\u001b[0m\n",
      "\u001b[0;32m/home/aidan/anaconda2/lib/python2.7/site-packages/requests/sessions.pyc\u001b[0m in \u001b[0;36msend\u001b[0;34m(self, request, **kwargs)\u001b[0m\n\u001b[1;32m    616\u001b[0m \u001b[0;34m\u001b[0m\u001b[0m\n\u001b[1;32m    617\u001b[0m         \u001b[0;31m# Send the request\u001b[0m\u001b[0;34m\u001b[0m\u001b[0;34m\u001b[0m\u001b[0m\n\u001b[0;32m--> 618\u001b[0;31m         \u001b[0mr\u001b[0m \u001b[0;34m=\u001b[0m \u001b[0madapter\u001b[0m\u001b[0;34m.\u001b[0m\u001b[0msend\u001b[0m\u001b[0;34m(\u001b[0m\u001b[0mrequest\u001b[0m\u001b[0;34m,\u001b[0m \u001b[0;34m**\u001b[0m\u001b[0mkwargs\u001b[0m\u001b[0;34m)\u001b[0m\u001b[0;34m\u001b[0m\u001b[0m\n\u001b[0m\u001b[1;32m    619\u001b[0m \u001b[0;34m\u001b[0m\u001b[0m\n\u001b[1;32m    620\u001b[0m         \u001b[0;31m# Total elapsed time of the request (approximately)\u001b[0m\u001b[0;34m\u001b[0m\u001b[0;34m\u001b[0m\u001b[0m\n",
      "\u001b[0;32m/home/aidan/anaconda2/lib/python2.7/site-packages/requests/adapters.pyc\u001b[0m in \u001b[0;36msend\u001b[0;34m(self, request, stream, timeout, verify, cert, proxies)\u001b[0m\n\u001b[1;32m    506\u001b[0m                 \u001b[0;32mraise\u001b[0m \u001b[0mSSLError\u001b[0m\u001b[0;34m(\u001b[0m\u001b[0me\u001b[0m\u001b[0;34m,\u001b[0m \u001b[0mrequest\u001b[0m\u001b[0;34m=\u001b[0m\u001b[0mrequest\u001b[0m\u001b[0;34m)\u001b[0m\u001b[0;34m\u001b[0m\u001b[0m\n\u001b[1;32m    507\u001b[0m \u001b[0;34m\u001b[0m\u001b[0m\n\u001b[0;32m--> 508\u001b[0;31m             \u001b[0;32mraise\u001b[0m \u001b[0mConnectionError\u001b[0m\u001b[0;34m(\u001b[0m\u001b[0me\u001b[0m\u001b[0;34m,\u001b[0m \u001b[0mrequest\u001b[0m\u001b[0;34m=\u001b[0m\u001b[0mrequest\u001b[0m\u001b[0;34m)\u001b[0m\u001b[0;34m\u001b[0m\u001b[0m\n\u001b[0m\u001b[1;32m    509\u001b[0m \u001b[0;34m\u001b[0m\u001b[0m\n\u001b[1;32m    510\u001b[0m         \u001b[0;32mexcept\u001b[0m \u001b[0mClosedPoolError\u001b[0m \u001b[0;32mas\u001b[0m \u001b[0me\u001b[0m\u001b[0;34m:\u001b[0m\u001b[0;34m\u001b[0m\u001b[0m\n",
      "\u001b[0;31mConnectionError\u001b[0m: HTTPConnectionPool(host='webhose.io', port=80): Max retries exceeded with url: /filterWebContent?q=language%3Aenglish+is_first%3Atrue+%28+site%3Ainfowars.com+%29&sort=performance_score&token=27dfe87c-b2b4-4c6c-8385-6dd03f9716cd&ts=1509257254791&format=json (Caused by NewConnectionError('<urllib3.connection.HTTPConnection object at 0x7f9ac8850690>: Failed to establish a new connection: [Errno 110] Connection timed out',))"
     ]
    }
   ],
   "source": [
    "sites = []\n",
    "webhoseio.config(token=\"27dfe87c-b2b4-4c6c-8385-6dd03f9716cd\")\n",
    "query_params = {\n",
    "\"q\": \"language:english is_first:true ( \" + fakestring + \" )\",\n",
    "\"ts\": \"1509257254791\",\n",
    "\"sort\": \"performance_score\"\n",
    "}\n",
    "output = webhoseio.query(\"filterWebContent\", query_params)\n",
    "print output['totalResults']\n",
    "\n",
    "for post in output[\"posts\"]:\n",
    "    sites.append(post[\"thread\"][\"site\"])"
   ]
  },
  {
   "cell_type": "code",
   "execution_count": null,
   "metadata": {},
   "outputs": [],
   "source": [
    "c = Counter(sites)\n",
    "\n",
    "print c"
   ]
  },
  {
   "cell_type": "code",
   "execution_count": 49,
   "metadata": {},
   "outputs": [
    {
     "name": "stdout",
     "output_type": "stream",
     "text": [
      "zerohedge.com\n",
      "BITCOIN vs. GOLD: Which One's A Bubble & How Much Energy Do They Really Consume by SRSrocco - Nov 4, 2017 12:11 PM \n",
      "If you are investing in either Bitcoin or Gold, it's important to understand which asset is behaving more like a bubble than the other. New LME gold and silver Reference Prices: Will anyone notice? by BullionStar - Nov 4, 2017 5:56 PM \n",
      "As the London Metal Exchange (LME) rolls out the publication of daily reference prices for gold and silver traded in London, the question must be asked, are they needed? by George Washington - Nov 2, 2017 12:38 PM \n",
      "Other than THAT, He's a Great Guy ... Obama Admin Lied; New Memos Reveal Uranium One Exports To \"Europe And Asia\" Via Canada Nov 3, 2017 10:12 AM 0 SHARES \n",
      "As the mainstream media continues to obsess over $100,000 worth Facebook ads allegedly purchased by Russian spies in 2016 seeking to throw the presidential election, behind the scenes, far removed from the sight of CNN and MSNBC, the Uranium One scandal, in which the Obama administration approved a deal that handed a Russian-controlled corporation 20% of America's uranium reserves despite the existence of an FBI investigation into ongoing illegal bribery, extortion and money laundering schemes, is slowly spiraling out of control ...despite CNN's continued ignorance of the topic. \n",
      "By now we're sure that most of our readers are well aware that Obama's approval of the Uranium One deal seemingly landed the Clinton Foundation some $145 million in donations and a $500,000 speaking gig for former President Bill Clinton from a very thankful Russian bank...if not, here are a couple of recent posts on the topic as a recap: FBI Informant \"Threatened\" After Offering Details Linking Clinton Foundation To Russian Bribery Case \n",
      "That said, one thing that you probably don't know yet, primarily because of the Obama administration's proactive attempt conceal such information, is that despite repeated assurances from Congress and Obama's Nuclear Regulatory Commission that U.S. uranium reserves wouldn't leave U.S. shores, it, in fact, did. \n",
      "As The Hill points out today, assurances that U.S. uranium would not be exported to foreign countries was a key sticking point when Congress reviewed the deal back in 2010. As such, repeated assurances were provided that such exports would never occur...here are just a couple of examples of those assurances: \n",
      "“No uranium produced at either facility may be exported,” the NRC declared in a November 2010 press release that announced that ARMZ, a subsidiary of the Russian-owned Rosatom, had been approved to take ownership of the Uranium One mining firm and its American assets. \n",
      "\n",
      "A year later, the nuclear regulator repeated the assurance in a letter to Sen. John Barrasso, a Wyoming Republican in whose state Uranium One operated mines. \n",
      "\n",
      "“Neither Uranium One Inc. nor AMRZ holds a specific NRC export license. In order to export uranium from the United States, Uranium One Inc. or ARMZ would need to apply for an obtain a specific NRC license authorizing the exports of uranium for use in reactor fuel,” then-NRC Chairman Gregory Jaczko wrote Barrasso. \n",
      "\n",
      "The NRC never issued an export license to the Russian firm, a fact so engrained in the narrative of the Uranium One controversy that it showed up in The Washington Post’s official fact-checker site this week. “We have noted repeatedly that extracted uranium could not be exported by Russia without a license, which Rosatom does not have,” The Post reported on Monday, linking to the 2011 Barrasso letter. \n",
      "That said, new memos obtained by The Hill now confirm that, in fact, Uranium One yellowcake did manage to escape U.S. shores repeatedly between 2012 - 2014. \n",
      "Yet NRC memos reviewed by The Hill shows that it did approve the shipment of yellowcake uranium — the raw material used to make nuclear fuel and weapons — from the Russian-owned mines in the United States to Canada in 2012 through a third party. Later, the Obama administration approved some of that uranium going all the way to Europe, government documents show. \n",
      "\n",
      "NRC officials said they could not disclose the total amount of uranium that Uranium One exported because the information is proprietary. They did, however, say that the shipments only lasted from 2012 to 2014 and that they are unaware of any exports since then. \n",
      "\n",
      "NRC officials told The Hill that Uranium One exports flowed from Wyoming to Canada and on to Europe between 2012 through 2014, and the approval involved a process with multiple agencies. \n",
      "Of course, given his repeated assurances to the contrary, Obama couldn't simply allow Uranium One to ship uranium to the nearest port for export, so he instead signed a waiver allowing a Kentucky trucking company to carry the product across the Canadian border and then approved export from Canada to Europe. \n",
      "Rather than give Rosatom a direct export license — which would have raised red flags inside a Congress already suspicious of the deal — the NRC in 2012 authorized an amendment to an existing export license for a Paducah, Ky.,-based trucking firm called RSB Logistics Services Inc. to simply add Uranium One to the list of clients whose uranium it could move to Canada. \n",
      "\n",
      "The license, reviewed by The Hill, is dated March 16, 2012, and it increased the amount of uranium ore concentrate that RSB Logistics could ship to the Cameco Corp. plant in Ontario from 7,500,000 kilograms to 12,000,000 kilograms and added Uranium One to the “other parties to Export.” \n",
      "\n",
      "The move escaped notice in Congress. \n",
      "And while it will be dismissed by the Left as a convenient attempt for Republicans to change the \"Russian collusion\" narrative, Senator Chuck Grassley and others are finally starting to press for a special counsel to investigate what is clearly a scandal that is far more pervasive than anyone originally thought. \n",
      "“The more that surfaces about this deal, the more questions it raises,\" Sen. Chuck Grassley (R-Iowa) said in a statement released after this story was published. Grassley, the chairman of the Senate Judiciary Committee, has launched an investigation into Uranium One. \n",
      "\n",
      "\"It now appears that despite pledges to the contrary, U.S. uranium made its way overseas as a part of the Uranium One deal,\" Grassley said in the statement. \"What’s more disturbing, those transactions were apparently made possible by various Obama Administration agencies while the Democrat-controlled Congress turned a blind eye. \n",
      "\n",
      "“Americans deserve assurances that political influence was not a factor in all this. I’m increasingly convinced that a special counsel — someone with no prior involvement in any of these deals — should shine a light on this ordeal and get answers for the American people.” \n",
      "So, is this what Obama meant when he told Russian President Dmitry Medvedev to let Putin know that he would \"have more flexibility\" after the 2012 election?\n"
     ]
    }
   ],
   "source": [
    "i = 19\n",
    "print output['posts'][i]['thread']['site']\n",
    "print output['posts'][i]['text']"
   ]
  },
  {
   "cell_type": "code",
   "execution_count": null,
   "metadata": {
    "collapsed": true
   },
   "outputs": [],
   "source": []
  }
 ],
 "metadata": {
  "kernelspec": {
   "display_name": "Python 2",
   "language": "python",
   "name": "python2"
  },
  "language_info": {
   "codemirror_mode": {
    "name": "ipython",
    "version": 2
   },
   "file_extension": ".py",
   "mimetype": "text/x-python",
   "name": "python",
   "nbconvert_exporter": "python",
   "pygments_lexer": "ipython2",
   "version": "2.7.13"
  }
 },
 "nbformat": 4,
 "nbformat_minor": 2
}
